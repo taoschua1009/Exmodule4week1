{
  "nbformat": 4,
  "nbformat_minor": 0,
  "metadata": {
    "colab": {
      "provenance": []
    },
    "kernelspec": {
      "name": "python3",
      "display_name": "Python 3"
    },
    "language_info": {
      "name": "python"
    }
  },
  "cells": [
    {
      "cell_type": "markdown",
      "source": [
        "Bài 1\n",
        "\n"
      ],
      "metadata": {
        "id": "1bBaZLVJ76nD"
      }
    },
    {
      "cell_type": "code",
      "execution_count": 6,
      "metadata": {
        "id": "xff112aQ7hXK"
      },
      "outputs": [],
      "source": [
        "#dataset\n",
        "import numpy as np\n",
        "import matplotlib.pyplot as plt\n",
        "import random"
      ]
    },
    {
      "cell_type": "code",
      "source": [
        "def get_column(data, index):\n",
        "  result = [row[index] for row in data]\n",
        "  return result"
      ],
      "metadata": {
        "id": "c-4Nj0VH8Fwr"
      },
      "execution_count": 7,
      "outputs": []
    },
    {
      "cell_type": "code",
      "source": [
        "def prepare_data(file_name_dataset):\n",
        "  data = np.genfromtxt(file_name_dataset, delimiter=',', skip_header=1).tolist()\n",
        "  N = len(data)\n",
        "\n",
        "  #get tv (index = 0)\n",
        "  tv_data = get_column(data, 0)\n",
        "\n",
        "  #get radio (index = 1)\n",
        "  radio_data = get_column(data, 1)\n",
        "\n",
        "  #get newspaper (index = 2)\n",
        "  newspaper_data = get_column(data, 2)\n",
        "\n",
        "  #get sales(index = 3)\n",
        "  sales_data = get_column(data, 3)\n",
        "\n",
        "  #building X input and y output for training\n",
        "  X = [tv_data, radio_data, newspaper_data]\n",
        "  y = sales_data\n",
        "  return X,y"
      ],
      "metadata": {
        "id": "nIrydFIS9qm2"
      },
      "execution_count": 141,
      "outputs": []
    },
    {
      "cell_type": "code",
      "source": [
        "X,y = prepare_data('advertising.csv')\n",
        "list = [sum(X[0][:5]), sum(X[1][:5]), sum(X[2][:5]), sum(y[:5])]\n",
        "print(list)"
      ],
      "metadata": {
        "colab": {
          "base_uri": "https://localhost:8080/"
        },
        "id": "GEScyyTYBjuq",
        "outputId": "570a7d94-c9d2-4f70-aaa8-5fbac7ebefa9"
      },
      "execution_count": 38,
      "outputs": [
        {
          "output_type": "stream",
          "name": "stdout",
          "text": [
            "[624.1, 175.10000000000002, 300.5, 78.9]\n"
          ]
        }
      ]
    },
    {
      "cell_type": "markdown",
      "source": [
        "Câu 2"
      ],
      "metadata": {
        "id": "QIPz8ucWELuE"
      }
    },
    {
      "cell_type": "code",
      "source": [
        "# def initialize_params():\n",
        "#     w1 = random.gauss(mu=0.0,  sigma=0.01)\n",
        "#     w2 = random.gauss(mu=0.0,  sigma=0.01)\n",
        "#     w3 = random.gauss(mu=0.0,  sigma=0.01)\n",
        "#     b  = 0\n",
        "#     return w1, w2, w3, b"
      ],
      "metadata": {
        "id": "HmXWGA2ZGccU"
      },
      "execution_count": 14,
      "outputs": []
    },
    {
      "cell_type": "code",
      "source": [
        "def initialize_params():\n",
        "  w1, w2, w3, b = (0.016992259082509283 , 0.0070783670518262355 , -0.002307860847821344 , 0)\n",
        "  return w1, w2, w3, b"
      ],
      "metadata": {
        "id": "JcM65aomHwhv"
      },
      "execution_count": 65,
      "outputs": []
    },
    {
      "cell_type": "code",
      "source": [
        "def predict(x1, x2, x3, w1, w2, w3, b):\n",
        "    y_hat = w1*x1 + w2*x2 + w3*x3 + b\n",
        "    return y_hat\n"
      ],
      "metadata": {
        "id": "NB_Ec_lBH__e"
      },
      "execution_count": 66,
      "outputs": []
    },
    {
      "cell_type": "markdown",
      "source": [
        "Question 2.2"
      ],
      "metadata": {
        "id": "A5Goc7-rJoc-"
      }
    },
    {
      "cell_type": "code",
      "source": [
        "#Question 2:\n",
        "y = predict(x1=1, x2=1, x3=1, w1=0, w2=0.5, w3=0, b=0.5)\n",
        "print (y)\n"
      ],
      "metadata": {
        "colab": {
          "base_uri": "https://localhost:8080/"
        },
        "id": "5f9YtpGzJJ5R",
        "outputId": "5f5ce60e-ef83-4103-d1d6-6019c6140f09"
      },
      "execution_count": 68,
      "outputs": [
        {
          "output_type": "stream",
          "name": "stdout",
          "text": [
            "1.0\n"
          ]
        }
      ]
    },
    {
      "cell_type": "markdown",
      "source": [
        "Question 2.3\n"
      ],
      "metadata": {
        "id": "3xlR-laXJ7Px"
      }
    },
    {
      "cell_type": "code",
      "source": [
        "def compute_loss_mse(y_hat, y):\n",
        "    loss = (y_hat - y)**2\n",
        "    return loss"
      ],
      "metadata": {
        "id": "R1tySn2sJfn5"
      },
      "execution_count": 69,
      "outputs": []
    },
    {
      "cell_type": "code",
      "source": [
        "#Question 3:\n",
        "l = compute_loss_mse(y_hat=1, y=0.5)\n",
        "print(l)"
      ],
      "metadata": {
        "colab": {
          "base_uri": "https://localhost:8080/"
        },
        "id": "Pz-bEcavKOlx",
        "outputId": "389508ab-98ca-48aa-d1b0-4e0904a47221"
      },
      "execution_count": 70,
      "outputs": [
        {
          "output_type": "stream",
          "name": "stdout",
          "text": [
            "0.25\n"
          ]
        }
      ]
    },
    {
      "cell_type": "code",
      "source": [
        "#compute gradient\n",
        "def compute_gradient_wi(xi, y, y_hat):\n",
        "    dl_dwi = 2*xi*(y_hat - y)\n",
        "    return dl_dwi"
      ],
      "metadata": {
        "id": "RdwZ8D84KVqU"
      },
      "execution_count": 71,
      "outputs": []
    },
    {
      "cell_type": "code",
      "source": [
        "def compute_gradient_b(y, y_hat):\n",
        "    dl_db = 2*(y_hat - y)\n",
        "    return dl_db"
      ],
      "metadata": {
        "id": "wcDDRo-XKyQr"
      },
      "execution_count": 72,
      "outputs": []
    },
    {
      "cell_type": "code",
      "source": [
        "#Question 4:\n",
        "# MSE loss\n",
        "g_wi = compute_gradient_wi(xi=1.0, y=1.0, y_hat=0.5)\n",
        "print(g_wi)"
      ],
      "metadata": {
        "colab": {
          "base_uri": "https://localhost:8080/"
        },
        "id": "Iwk0-VGzLgJI",
        "outputId": "6431bcc1-27b8-4710-dd67-37d0dedce4b0"
      },
      "execution_count": 73,
      "outputs": [
        {
          "output_type": "stream",
          "name": "stdout",
          "text": [
            "-1.0\n"
          ]
        }
      ]
    },
    {
      "cell_type": "code",
      "source": [
        "#Question 5:\n",
        "g_b = compute_gradient_b(y=2.0, y_hat=0.5)\n",
        "print(g_b)\n"
      ],
      "metadata": {
        "colab": {
          "base_uri": "https://localhost:8080/"
        },
        "id": "VDfJJHa8MXKC",
        "outputId": "3d62588a-f629-4f5b-a611-72f70e53032b"
      },
      "execution_count": 74,
      "outputs": [
        {
          "output_type": "stream",
          "name": "stdout",
          "text": [
            "-3.0\n"
          ]
        }
      ]
    },
    {
      "cell_type": "code",
      "source": [
        "# update weights\n",
        "def update_weight_wi(wi, dl_dwi, lr):\n",
        "    wi = wi - lr * dl_dwi\n",
        "    return wi"
      ],
      "metadata": {
        "id": "iMbmSHcGM3tj"
      },
      "execution_count": 75,
      "outputs": []
    },
    {
      "cell_type": "code",
      "source": [
        "def update_weight_b(b, dl_db, lr):\n",
        "    b = b - lr * dl_db\n",
        "    return b"
      ],
      "metadata": {
        "id": "AE19s_7QN0QN"
      },
      "execution_count": 76,
      "outputs": []
    },
    {
      "cell_type": "code",
      "source": [
        "#Question 6\n",
        "after_wi = update_weight_wi(wi=1.0, dl_dwi=-0.5, lr = 1e-5)\n",
        "print(after_wi)"
      ],
      "metadata": {
        "colab": {
          "base_uri": "https://localhost:8080/"
        },
        "id": "vDT6Cwk5OgwM",
        "outputId": "d019de39-f3e6-4370-d1bf-777c7b3bb436"
      },
      "execution_count": 77,
      "outputs": [
        {
          "output_type": "stream",
          "name": "stdout",
          "text": [
            "1.000005\n"
          ]
        }
      ]
    },
    {
      "cell_type": "code",
      "source": [
        "#Question 7\n",
        "after_b = update_weight_b(b=0.5, dl_db=-1.0, lr = 1e-5)\n",
        "print (after_b)\n",
        "print(after_wi)\n"
      ],
      "metadata": {
        "colab": {
          "base_uri": "https://localhost:8080/"
        },
        "id": "np6aUgBPOusC",
        "outputId": "47a219c2-3841-45a4-c373-9ccd1efe1eb4"
      },
      "execution_count": 78,
      "outputs": [
        {
          "output_type": "stream",
          "name": "stdout",
          "text": [
            "0.50001\n",
            "1.000005\n"
          ]
        }
      ]
    },
    {
      "cell_type": "code",
      "source": [
        "\n",
        "def implement_linear_regression(X_data, y_data, epoch_max = 50,lr = 1e-5):\n",
        "  losses = []\n",
        "\n",
        "  w1, w2, w3, b = initialize_params()\n",
        "\n",
        "  N = len(y_data)\n",
        "  for epoch in range(epoch_max):\n",
        "      for i in range(N):\n",
        "          # get a sample\n",
        "          x1 = X_data[0][i]\n",
        "          x2 = X_data[1][i]\n",
        "          x3 = X_data[2][i]\n",
        "\n",
        "          y  = y_data[i]\n",
        "\n",
        "          # print(y)\n",
        "          # compute output\n",
        "          y_hat = predict(x1, x2, x3, w1, w2, w3, b)\n",
        "\n",
        "          # compute loss\n",
        "          loss = compute_loss_mse(y, y_hat)\n",
        "\n",
        "          # compute gradient w1, w2, w3, b\n",
        "          dl_dw1 = compute_gradient_wi(x1, y, y_hat)\n",
        "          dl_dw2 = compute_gradient_wi(x2, y, y_hat)\n",
        "          dl_dw3 = compute_gradient_wi(x3, y, y_hat)\n",
        "          dl_db  = compute_gradient_b(y, y_hat)\n",
        "\n",
        "          # update parameters\n",
        "          w1 = update_weight_wi(w1, dl_dw1, lr)\n",
        "          w2 = update_weight_wi(w2, dl_dw2, lr)\n",
        "          w3 = update_weight_wi(w3, dl_dw3, lr)\n",
        "          b  = update_weight_b(b, dl_db, lr)\n",
        "\n",
        "          # logging\n",
        "          losses.append(loss)\n",
        "  return (w1,w2,w3,b, losses)"
      ],
      "metadata": {
        "id": "9JM44ciLEM5j"
      },
      "execution_count": 90,
      "outputs": []
    },
    {
      "cell_type": "code",
      "source": [
        "(w1, w2, w3, b, losses) = implement_linear_regression(X,y)\n",
        "plt.plot(losses[:100])\n",
        "plt.xlabel(\"#iteration\")\n",
        "plt.ylabel(\"Loss\")\n",
        "plt.show()"
      ],
      "metadata": {
        "colab": {
          "base_uri": "https://localhost:8080/",
          "height": 449
        },
        "id": "2pkV0y9BPV-p",
        "outputId": "46d1ae00-67b7-4a7b-f985-00841b6b1a0b"
      },
      "execution_count": 91,
      "outputs": [
        {
          "output_type": "display_data",
          "data": {
            "text/plain": [
              "<Figure size 640x480 with 1 Axes>"
            ],
            "image/png": "[encoded data removed]"
          },
          "metadata": {}
        }
      ]
    },
    {
      "cell_type": "code",
      "source": [
        "#question 8:\n",
        "X,y = prepare_data('advertising.csv')\n",
        "(w1, w2, w3, b, losses) = implement_linear_regression(X,y)\n",
        "print(w1, w2, w3)\n"
      ],
      "metadata": {
        "colab": {
          "base_uri": "https://localhost:8080/"
        },
        "id": "kF7AfOEpTZj8",
        "outputId": "14987819-85eb-48f1-8501-f65e66ecd567"
      },
      "execution_count": 92,
      "outputs": [
        {
          "output_type": "stream",
          "name": "stdout",
          "text": [
            "0.07405984066396477 0.15917360263437663 0.017561197559948935\n"
          ]
        }
      ]
    },
    {
      "cell_type": "code",
      "source": [
        "#Question 9:\n",
        "\n",
        "# given new data\n",
        "tv = 19.2\n",
        "radio = 35.9\n",
        "newspaper = 51.3\n",
        "\n",
        "X,y = prepare_data('advertising.csv')\n",
        "(w1, w2, w3, b, losses) = implement_linear_regression(X, y, epoch_max = 50, lr = 1e-5)\n",
        "sales = predict(tv, radio, newspaper, w1, w2, w3, b)\n",
        "print(f'predicted sales is {sales}')"
      ],
      "metadata": {
        "colab": {
          "base_uri": "https://localhost:8080/"
        },
        "id": "Q19Y72KkXXxs",
        "outputId": "21e7b559-4893-4a4a-f0d3-f2c87f441c24"
      },
      "execution_count": 93,
      "outputs": [
        {
          "output_type": "stream",
          "name": "stdout",
          "text": [
            "predicted sales is 8.176413319549823\n"
          ]
        }
      ]
    },
    {
      "cell_type": "code",
      "source": [
        "def compute_loss_mae(y_hat, y):\n",
        "    loss = abs(y_hat - y)\n",
        "    return loss"
      ],
      "metadata": {
        "id": "tfhb-iaKa50P"
      },
      "execution_count": 94,
      "outputs": []
    },
    {
      "cell_type": "code",
      "source": [
        "#Question 10:\n",
        "l = compute_loss_mae(y_hat=1, y=0.5)\n",
        "print(l)"
      ],
      "metadata": {
        "colab": {
          "base_uri": "https://localhost:8080/"
        },
        "id": "_0Ub6gcubm28",
        "outputId": "614cd50d-f182-40a8-e828-be46583c835a"
      },
      "execution_count": 96,
      "outputs": [
        {
          "output_type": "stream",
          "name": "stdout",
          "text": [
            "0.5\n"
          ]
        }
      ]
    },
    {
      "cell_type": "markdown",
      "source": [
        "###Question 3\n"
      ],
      "metadata": {
        "id": "38xw5bLOdkQL"
      }
    },
    {
      "cell_type": "code",
      "source": [
        "\n",
        "def implement_linear_regression_nsamples(X_data, y_data, epoch_max = 50,lr = 1e-5):\n",
        "  losses = []\n",
        "\n",
        "  w1, w2, w3, b = initialize_params()\n",
        "  N = len(y_data)\n",
        "\n",
        "  for epoch in range(epoch_max):\n",
        "\n",
        "      loss_total = 0.0\n",
        "      dw1_total = 0.0\n",
        "      dw2_total = 0.0\n",
        "      dw3_total = 0.0\n",
        "      db_total  = 0.0\n",
        "\n",
        "      for i in range(N):\n",
        "          # get a sample\n",
        "          x1 = X_data[0][i]\n",
        "          x2 = X_data[1][i]\n",
        "          x3 = X_data[2][i]\n",
        "\n",
        "          y  = y_data[i]\n",
        "\n",
        "          # print(y)\n",
        "          # compute output\n",
        "          y_hat = predict(x1, x2, x3, w1, w2, w3, b)\n",
        "\n",
        "          # compute loss\n",
        "          loss = compute_loss_mae(y, y_hat)\n",
        "\n",
        "          # accumulate loss to total loss\n",
        "          loss_total = loss_total + loss\n",
        "\n",
        "          # compute gradient w1, w2, w3, b\n",
        "          dl_dw1 = compute_gradient_wi(x1, y, y_hat)\n",
        "          dl_dw2 = compute_gradient_wi(x2, y, y_hat)\n",
        "          dl_dw3 = compute_gradient_wi(x3, y, y_hat)\n",
        "          dl_db  = compute_gradient_b(y, y_hat)\n",
        "\n",
        "         # accumulate gradient w1, w2, w3, b\n",
        "          dw1_total += dl_dw1\n",
        "          dw2_total += dl_dw2\n",
        "          dw3_total += dl_dw3\n",
        "          db_total += dl_db\n",
        "\n",
        "\n",
        "\n",
        "      # (after processing N samples) - update parameters\n",
        "      w1 = update_weight_wi(w1, dw1_total/N, lr)\n",
        "      w2 = update_weight_wi(w2, dw2_total/N, lr)\n",
        "      w3 = update_weight_wi(w3, dw3_total/N, lr)\n",
        "      b = update_weight_b(b, db_total/N, lr)\n",
        "\n",
        "\n",
        "      # logging\n",
        "      losses.append(loss_total/N)\n",
        "  return (w1,w2,w3,b, losses)"
      ],
      "metadata": {
        "id": "Ljh_dT1edq7M"
      },
      "execution_count": 113,
      "outputs": []
    },
    {
      "cell_type": "code",
      "source": [
        "X,y = prepare_data('advertising.csv')\n",
        "(w1,w2,w3,b, losses) = implement_linear_regression_nsamples(X,y,1000)\n",
        "plt.plot(losses)\n",
        "plt.xlabel(\"#epoch\")\n",
        "plt.ylabel(\"MAE Loss\")\n",
        "plt.show()"
      ],
      "metadata": {
        "colab": {
          "base_uri": "https://localhost:8080/",
          "height": 449
        },
        "id": "3V-yjKREfinr",
        "outputId": "82a08641-5d6a-4daf-efc1-f3aec7ae2c66"
      },
      "execution_count": 119,
      "outputs": [
        {
          "output_type": "display_data",
          "data": {
            "text/plain": [
              "<Figure size 640x480 with 1 Axes>"
            ],
            "image/png": "[encoded data removed]"
          },
          "metadata": {}
        }
      ]
    },
    {
      "cell_type": "code",
      "source": [
        "X , y = prepare_data ('advertising.csv')\n",
        "# using MSE loss\n",
        "( w1 , w2 , w3 ,b , losses ) = implement_linear_regression_nsamples (X , y, epoch_max =1000 ,\n",
        "lr =1e-5)\n",
        "\n",
        "print ( w1 , w2 , w3 )"
      ],
      "metadata": {
        "colab": {
          "base_uri": "https://localhost:8080/"
        },
        "id": "KsFwh6y5gfyP",
        "outputId": "48e25d36-3d4e-4b24-ed9f-368542ef7196"
      },
      "execution_count": 115,
      "outputs": [
        {
          "output_type": "stream",
          "name": "stdout",
          "text": [
            "0.06710990754044266 0.15756173831487585 0.029619799386084403\n"
          ]
        }
      ]
    },
    {
      "cell_type": "code",
      "source": [
        "(w1, w2, w3, b, losses) = implement_linear_regression_nsamples(X, y, epoch_max=1000, lr=1e-5)\n",
        "\n",
        "print (losses)\n",
        "plt.plot(losses)\n",
        "plt.xlabel(\"#epoch\")\n",
        "plt.ylabel(\"MSE Loss\")\n",
        "plt.show()"
      ],
      "metadata": {
        "colab": {
          "base_uri": "https://localhost:8080/",
          "height": 487
        },
        "id": "kaH3G0Mqi0jj",
        "outputId": "9924a6ee-34bf-4bf8-d892-bfc5977c78b2"
      },
      "execution_count": 116,
      "outputs": [
        {
          "output_type": "stream",
          "name": "stdout",
          "text": [
            "[12.537758993110772, 5.905253690937074, 3.7290201321746137, 3.280103342013847, 3.1836865214240593, 3.1504551681146706, 3.1282032310037176, 3.107834776878128, 3.0877653671823877, 3.067869077619822, 3.0482166503078565, 3.02883345816351, 3.0097268958233707, 2.990926260388694, 2.9724018229858893, 2.954147483295836, 2.936159497829541, 2.9184793882434996, 2.9013201899015386, 2.8848065446993694, 2.8692913979087806, 2.8540808729447424, 2.8391539128581824, 2.824441258695949, 2.809939593214031, 2.795661552510065, 2.781611479829696, 2.7677616004414416, 2.7541088214511316, 2.7406510256334013, 2.727970116901554, 2.7155029638904806, 2.703211839174965, 2.6910940299623816, 2.6792629854501695, 2.6676459659520204, 2.6561923391983115, 2.645064404704684, 2.6341944320960224, 2.623535606535408, 2.6130255229490116, 2.6026618964920454, 2.592442478315787, 2.5823650549969863, 2.5725241259925906, 2.562865212228721, 2.553339917055549, 2.5439461929615637, 2.5347454167598515, 2.525816782277532, 2.517347376120849, 2.5089927795383775, 2.5007512434373766, 2.4926210462240466, 2.4846004933678074, 2.47670921208838, 2.4689643336060416, 2.4613225337684033, 2.453782250646995, 2.4464709851918, 2.439595238689517, 2.4328079826812123, 2.4261078899013917, 2.419577796202887, 2.4135088185678195, 2.4075160891483276, 2.4016271341324984, 2.395910398510266, 2.39026443121748, 2.3846881838681373, 2.3791806244414273, 2.373740737022908, 2.3683675215497675, 2.3630599935601264, 2.3578171839463233, 2.35263813871212, 2.3475993687443584, 2.34307099065682, 2.338636840264498, 2.334425668853236, 2.33026176128842, 2.3261444409514938, 2.3220730416902824, 2.3180469076538195, 2.31406539312978, 2.310127862384519, 2.306233689505614, 2.302382258246934, 2.298572961876149, 2.294805203024655, 2.291078393539891, 2.2873919543399936, 2.283745315270744, 2.2801379149648033, 2.276569200703163, 2.273038628278799, 2.269545661862495, 2.2660897738707733, 2.26267044483594, 2.259292547265912, 2.2559664864479405, 2.2526749655205744, 2.2494175049115954, 2.2461936324046228, 2.243002883023256, 2.239844798917083, 2.236718929249466, 2.2336248300871246, 2.230562064291473, 2.2275302014116587, 2.224528817579313, 2.2215574954049724, 2.218615823876118, 2.2157789532667964, 2.213060795157057, 2.2103687894856905, 2.207702585102212, 2.2050618361904313, 2.2024462021846203, 2.1998553476870564, 2.197288942386837, 2.1947466609800084, 2.1922281830909416, 2.1897331931949564, 2.1872613805421826, 2.184812439082601, 2.182386067392312, 2.1799819686009267, 2.177599850320143, 2.175239424573432, 2.172956587490843, 2.170707190968632, 2.1684782097706576, 2.1662693774040385, 2.1640804313900333, 2.1619783213021377, 2.1598975869338854, 2.1578353169136717, 2.1557912729796307, 2.1537761995692826, 2.1518360084540133, 2.1499124169928097, 2.1480052151482396, 2.1461141960160326, 2.1442391557760754, 2.1423798936442027, 2.140536211824737, 2.1387280455642026, 2.1369426309029844, 2.1351721166897066, 2.133425833141169, 2.1317556701056137, 2.1300988602758735, 2.1284552412350894, 2.1268246529581294, 2.125206937774312, 2.1236019403307265, 2.1220095075561085, 2.120429488625323, 2.118861734924371, 2.117306100015992, 2.1157624396057635, 2.1142449272232264, 2.112741505379898, 2.111249686496125, 2.1097693325566906, 2.1083003075633906, 2.10684247750366, 2.105395710319696, 2.103959875878074, 2.1025348459398234, 2.101120494131011, 2.0997166959137448, 2.0983233285576803, 2.09694027111195, 2.095567404377536, 2.0942046108801002, 2.0928517748432167, 2.0915087821620384, 2.09017552037739, 2.0888518786502646, 2.087537747736695, 2.0862330199630716, 2.084937589201812, 2.0836513508474255, 2.0823742017929643, 2.0811060404068353, 2.0798467665099722, 2.078596281353391, 2.077354487596078, 2.076121289283237, 2.074896591824874, 2.0736803019747283, 2.0724723278095207, 2.0712725787085495, 2.0701013033115157, 2.0689632723056097, 2.067869084268058, 2.0667821048828285, 2.0657022579597655, 2.0646294683739295, 2.063563662049222, 2.062504765942262, 2.0614527080265344, 2.060425240845721, 2.0594269914305503, 2.0584350231040163, 2.0574492721506266, 2.056469675730496, 2.05549617186597, 2.054528699428438, 2.0535671981253656, 2.052611608487506, 2.0516618718563673, 2.050717930371805, 2.0498197482898872, 2.0489311793125573, 2.0480477774668127, 2.0471694943560435, 2.0462962822249313, 2.0454280939497447, 2.0445648830287877, 2.0437066035730003, 2.0428532102966996, 2.0420241283111444, 2.0412015906434724, 2.040383820671612, 2.039570773886938, 2.0387624063696563, 2.037958674779901, 2.0371595363489665, 2.036364948870671, 2.03557487069288, 2.034789260709135, 2.034008078350426, 2.033231283577093, 2.032458836870861, 2.031690699226979, 2.030926832146502, 2.030167197628693, 2.029411758163529, 2.02866047672434, 2.0279147684310086, 2.0272004847345104, 2.0264902358410386, 2.0257839851498547, 2.0250816965375753, 2.024383334350972, 2.023688863399914, 2.0229982489503913, 2.0223114567176563, 2.021628452859484, 2.0209492039695274, 2.020273677070777, 2.0196018396091278, 2.018933659447035, 2.018269104857295, 2.017617933802181, 2.016976128057471, 2.016337742468444, 2.0157027481626866, 2.015071116630085, 2.014442819717436, 2.013817829623134, 2.0131961188919663, 2.012577660409944, 2.01196242739927, 2.0113503934133337, 2.0107415323318234, 2.0101358183558844, 2.009533226003379, 2.0089337301042, 2.008337305795671, 2.0077439285180056, 2.007153574009856, 2.006566218303904, 2.005981837722555, 2.005400408873664, 2.0048219086463535, 2.0042463142068865, 2.003673602994604, 2.003103752717924, 2.0025367413504096, 2.0019725471268965, 2.0014111485396704, 2.0008625113436835, 2.0003291042382405, 1.9997983375390183, 1.9992701911902737, 1.998744645372014, 1.998225860558845, 1.997731650106356, 1.9972399185206802, 1.9967506465654967, 1.9962638152338565, 1.9957794057447993, 1.9952973995400702, 1.9948177782808583, 1.994340523844599, 1.993865618321822, 1.9933930440130567, 1.9929227834257681, 1.992454819271357, 1.9920035079461713, 1.991559163631822, 1.9911169978739318, 1.990676994342675, 1.9902391368984635, 1.989806463939052, 1.9893956557606662, 1.9889868665199129, 1.9885800810118346, 1.9881752842091884, 1.9877724612598513, 1.9873715974842994, 1.9869726783730908, 1.986575689584403, 1.9861806169416176, 1.9857874464309233, 1.9853961641989784, 1.9850067565505825, 1.9846192099464053, 1.984233511000748, 1.9838496464793314, 1.983467603297121, 1.983087368516195, 1.9827089293436233, 1.9823322731294086, 1.9819573873644334, 1.9815842596784545, 1.9812128778381244, 1.980843229745043, 1.9804753034338256, 1.9801090870702378, 1.9797445689493156, 1.979381737493543, 1.9790205812510455, 1.9786610888938168, 1.9783032492159673, 1.977947051132016, 1.977592483675174, 1.9772395359956971, 1.9768881973592307, 1.976538457145196, 1.9761903048452019, 1.9758437300614684, 1.9754987225052911, 1.9751552719955077, 1.9748162160091125, 1.9744804494774002, 1.9741462004773611, 1.9738134591539713, 1.973482215754828, 1.973152460628725, 1.9728241842242613, 1.972497377088444, 1.972175149462371, 1.9718689379085885, 1.9715640968923966, 1.9712606176714444, 1.970958491592957, 1.9706577100924982, 1.9703582646927587, 1.97006014700235, 1.9697633487146342, 1.969467861606548, 1.9691736775374715, 1.9688807884480928, 1.9685891863592986, 1.9682988633710858, 1.9680098116614806, 1.9677220234854866, 1.967435491174025, 1.9671502071329234, 1.9668661638418936, 1.966583353853542, 1.9663017697923828, 1.9660214043538693, 1.9657422503034523, 1.9654643004756287, 1.9651875477730274, 1.9649119851655001, 1.9646376056892216, 1.9643644024458105, 1.9640923686014613, 1.9638214973860826, 1.9635517820924624, 1.9632832160754392, 1.9630157927510714, 1.962749505595858, 1.9624843481459129, 1.9622203139962107, 1.9619573967998085, 1.9616955902670852, 1.9614348881650028, 1.9611752843163617, 1.9609167725990881, 1.9606593469455118, 1.960403001341673, 1.9601477298266192, 1.9598935264917412, 1.959640385480077, 1.9593883009856794, 1.9591372672529395, 1.958887278575967, 1.9586383292979426, 1.9583904138104982, 1.9581435265531197, 1.9578976620125115, 1.9576528147220393, 1.9574089792611145, 1.9571661502546323, 1.956924322372397, 1.9566834903285604, 1.956443648881082, 1.9562047928311657, 1.9559669170227374, 1.9557300163419213, 1.9554940857165044, 1.9552591201154368, 1.955025114548326, 1.9547920640649297, 1.9545599637546798, 1.954328808746187, 1.9541084525026589, 1.9538969763819256, 1.9536863601947045, 1.9534765995477579, 1.953267690082577, 1.9530596274749603, 1.9528524074346032, 1.952646025704693, 1.9524404780615, 1.9522357603139933, 1.952031868303446, 1.951828797903054, 1.9516265450175505, 1.9514251055828424, 1.9512244755656476, 1.9510246509631133, 1.9508256278024834, 1.950627402140731, 1.9504299700642178, 1.950233327688362, 1.950037471157282, 1.9498423966434808, 1.9496481003475195, 1.9494545784976847, 1.949261827349683, 1.9490698431863234, 1.9488786223172097, 1.9486881610784286, 1.948498455832272, 1.9483095029669235, 1.948121298896165, 1.9479338400591073, 1.9477471229198977, 1.9475611439674403, 1.9473758997151203, 1.9471913867005424, 1.9470076014852544, 1.9468245406544924, 1.9466422008169086, 1.946460578604338, 1.9462796706715222, 1.9460994736958759, 1.945919984377241, 1.9457411994376397, 1.9455631156210378, 1.9453857296931114, 1.945209038441022, 1.9450330386731816, 1.9448577272190162, 1.944683100928772, 1.9445091566732737, 1.9443358913437152, 1.944163301851451, 1.9439913851277841, 1.943820138123756, 1.9436495578099473, 1.9434796411762765, 1.9433103852318012, 1.943141787004516, 1.942973843541171, 1.9428065519070754, 1.942639909185908, 1.9424739124795394, 1.9423085589078395, 1.9421438456085083, 1.941979769736886, 1.9418163284657952, 1.9416535189853525, 1.9414913385028014, 1.9413297842423547, 1.9411688534450093, 1.9410085433684046, 1.9408488512866442, 1.9406897744901466, 1.9405313102854849, 1.9403734559952297, 1.9402162089578008, 1.9400595665273128, 1.9399035260734274, 1.9397480849812068, 1.9395932406509704, 1.9394389904981473, 1.939285331953146, 1.9391322624612, 1.9389797794822383, 1.9388278804907537, 1.9386765629756653, 1.9385258244401853, 1.9383756624016855, 1.9382260743915807, 1.9380770579551887, 1.937928610651615, 1.9377807300536234, 1.9376334137475113, 1.9374866593330013, 1.937340464423109, 1.937194826644034, 1.9370497436350393, 1.936905213048338, 1.9367612325489918, 1.9366177998147722, 1.9364749125360865, 1.9363328919091134, 1.936195209970733, 1.9360580495033548, 1.935921408332908, 1.9357852842967482, 1.9356496752435624, 1.9355145790332662, 1.9353799935369234, 1.9352459166366536, 1.935112346225536, 1.9349792802075314, 1.9348467164973853, 1.9347146530205448, 1.934583087713076, 1.9344520185215783, 1.934321443403103, 1.9341913603250633, 1.9340617672651665, 1.933932662211321, 1.933804043161564, 1.9336759081239823, 1.9335482551166314, 1.9334210821674689, 1.9332943873142656, 1.9331681686045414, 1.9330424240954838, 1.9329171518538824, 1.93279234995605, 1.9326680164877612, 1.9325441495441669, 1.9324207472297399, 1.9322978076581938, 1.9321753289524297, 1.9320533092444467, 1.9319361527790333, 1.9318211242363441, 1.9317065251732033, 1.931592353864767, 1.931478608594308, 1.9313652876531586, 1.931252389340653, 1.9311399119640766, 1.9310278538386152, 1.930916213287287, 1.93080498864091, 1.9306941782380307, 1.9305837804248824, 1.930473793555336, 1.9303642159908383, 1.9302550461003738, 1.9301462822604094, 1.9300379228548414, 1.929929966274956, 1.9298224109193762, 1.9297152551940082, 1.9296084975120067, 1.929502136293724, 1.92939616996665, 1.929290596965393, 1.9291854157316066, 1.9290806247139691, 1.928976222368122, 1.92887220715663, 1.9287695877388646, 1.9286790488948977, 1.928588844675419, 1.9284989737499743, 1.9284094347941794, 1.9283202264896615, 1.9282313475240347, 1.9281427965908535, 1.928054572389578, 1.9279666736255339, 1.9278790990098706, 1.927791847259547, 1.927704917097263, 1.927618307251444, 1.9275320164562002, 1.9274460434512917, 1.9273603869820923, 1.927275045799553, 1.927190018660171, 1.9271053043259574, 1.9270209015643993, 1.9269368091484236, 1.9268530258563765, 1.9267695504719726, 1.9266863817842839, 1.926603518587685, 1.9265209596818431, 1.926438703871666, 1.9263567499672911, 1.926275096784039, 1.9261937431423872, 1.926112687867947, 1.9260319297914221, 1.9259514677485858, 1.9258713005802537, 1.9257914271322476, 1.9257118462553726, 1.9256325568053823, 1.9255535576429597, 1.92547484763368, 1.9253964256479845, 1.925318290561162, 1.9252404412533084, 1.9251628766093083, 1.9250855955188024, 1.92500859687617, 1.9249318795804922, 1.9248554425355295, 1.9247792846496983, 1.924703404836046, 1.9246278020122183, 1.924552475100447, 1.9244774230275052, 1.9244026447247007, 1.9243281391278477, 1.9242539051772374, 1.9241799418176149, 1.9241062479981523, 1.924032822672436, 1.9239596647984385, 1.923886773338484, 1.92381414725924, 1.923741785531687, 1.923669687131098, 1.9235978510370126, 1.923526276233217, 1.9234549617077321, 1.9233839064527656, 1.9233131094647147, 1.9232425697441378, 1.923172286295724, 1.9231022581282833, 1.923032484254719, 1.922962963692011, 1.9228936954611904, 1.9228246785873204, 1.9227559120994746, 1.9226873950307208, 1.9226191264181043, 1.9225511053026116, 1.9224833307291673, 1.9224158017466066, 1.9223485174076549, 1.9222814767689158, 1.9222146788908439, 1.9221481228377288, 1.9220818076776738, 1.9220157324825842, 1.9219498963281378, 1.9218842982937776, 1.9218189374626866, 1.9217538129217646, 1.9216889237616275, 1.921624269076571, 1.9215598479645593, 1.9214956595272081, 1.9214317028697778, 1.9213679771011283, 1.9213044813337277, 1.9212412146836275, 1.9211781762704374, 1.921115365217318, 1.9210527806509616, 1.9209904217015756, 1.9209282875028586, 1.9208663771919998, 1.9208046899096414, 1.9207432247998852, 1.9206819810102544, 1.9206209576916948, 1.920560153998554, 1.920499569088554, 1.9204392021227954, 1.920379052265728, 1.9203191186851363, 1.920259400552128, 1.9201998970411176, 1.9201406073298162, 1.9200815305992012, 1.9200226660335165, 1.9199640128202504, 1.919905570150127, 1.9198473372170821, 1.9197893132182555, 1.9197314973539692, 1.9196738888277296, 1.919616486846193, 1.9195592906191628, 1.9195022993595685, 1.919445512283466, 1.9193889286099977, 1.9193325475614136, 1.9192763683630205, 1.9192203902431944, 1.919164612433361, 1.919109034167971, 1.9190536546845032, 1.9189984732234366, 1.9189434890282504, 1.9188887013453977, 1.9188341094243009, 1.9187797125173345, 1.9187255098798222, 1.9186715007700024, 1.9186176844490404, 1.9185640601809915, 1.9185106272328172, 1.9184573848743418, 1.91840433237826, 1.9183514690201182, 1.918298794078301, 1.9182463068340243, 1.918194006571313, 1.9181418925770013, 1.9180899641407074, 1.9180382205548363, 1.9179866611145535, 1.9179352851177836, 1.9178840918651892, 1.9178330806601702, 1.9177822508088445, 1.9177316016200314, 1.9176811324052607, 1.9176308424787303, 1.9175807311573225, 1.9175307977605842, 1.9174810416107047, 1.9174314620325146, 1.9173820583534793, 1.917332829903674, 1.9172837760157848, 1.9172348960250911, 1.9171861892694553, 1.9171387323868732, 1.917093744832617, 1.9170489156782815, 1.91700424432096, 1.916959730160086, 1.9169153725974186, 1.9168711710370383, 1.9168271248853417, 1.9167832335510187, 1.9167394964450577, 1.9166959129807208, 1.9166524825735534, 1.9166092046413519, 1.9165660786041763, 1.9165231038843231, 1.9164802799063279, 1.916437606096951, 1.9163950818851714, 1.9163527067021717, 1.9163104799813337, 1.9162684011582294, 1.9162264696706148, 1.9161846849584057, 1.9161430464636942, 1.9161015536307135, 1.9160602059058527, 1.9160190027376283, 1.915977943576684, 1.9159370278757892, 1.9158962550898162, 1.915855624675738, 1.9158151360926297, 1.9157747888016377, 1.915734582265992, 1.9156945159509862, 1.915654589323978, 1.915619407514559, 1.9155844629103171, 1.915549638899983, 1.915514935025456, 1.9154803508303972, 1.915445885860228, 1.9154115396621165, 1.9153773117849766, 1.9153432017794512, 1.915309209197919, 1.9152753335944732, 1.9152415745249254, 1.9152079315467905, 1.9151744042192878, 1.915140992103327, 1.9151076947615095, 1.9150745117581105, 1.9150414426590825, 1.9150084870320407, 1.9149756444462662, 1.9149429144726864, 1.914910296683881, 1.9148777906540646, 1.9148453959590892, 1.9148131121764294, 1.914780938885186, 1.914748875666068, 1.9147169221013933, 1.9146850777750828, 1.9146533422726486, 1.914621715181195, 1.9145901960894045, 1.9145587845875347, 1.9145274802674188, 1.9144962827224459, 1.9144651915475648, 1.9144342063392759, 1.91440332669562, 1.914372552216185, 1.9143418825020801, 1.914311317155946, 1.9142808557819497, 1.9142504979857586, 1.914220243374559, 1.914190091557036, 1.9141600421433715, 1.914130094745235, 1.9141002489757855, 1.9140705044496564, 1.914040860782951, 1.914011317593252, 1.913981874499589, 1.9139525311224552, 1.913923287083787, 1.9138941420069768, 1.91386509551684, 1.9138361472396344, 1.913807296803043, 1.9137785438361687, 1.91374988796953, 1.9137213288350594, 1.913692866066088, 1.9136644992973533, 1.9136362281649792, 1.913608052306482, 1.9135799713607622, 1.9135519849680909, 1.9135240927701198, 1.9134962944098635, 1.9134685895316954, 1.9134409777813481, 1.9134134588059042, 1.91338603225379, 1.9133586977747765, 1.913331455019964, 1.9133043036417843, 1.913277243293996, 1.9132502736316732, 1.913223394311212, 1.9131966049903033, 1.9131699053279567, 1.9131432949844753, 1.9131167736214516, 1.9130903409017745, 1.913063996489609, 1.9130377400504088, 1.913011571250888, 1.9129854897590421, 1.912959495244125, 1.912933587376652, 1.912907765828386, 1.9128820302723486, 1.912856380382798, 1.912830815835238, 1.9128053363064017, 1.9127799414742612, 1.912754631018, 1.9127294046180328, 1.9127042619559904, 1.912679202714709, 1.9126542265782331, 1.9126293332318085, 1.9126045223618824, 1.9125797936560902, 1.9125551468032551, 1.912530581493384, 1.9125060974176664, 1.9124816942684593, 1.9124573717392916, 1.9124331295248624, 1.9124089673210238, 1.9123848848247915, 1.9123608817343238, 1.9123369577489353, 1.912313112569075, 1.912289345896339, 1.9122656574334507, 1.9122420468842665, 1.9122185139537633, 1.9121950583480447, 1.912171679774333, 1.9121483779409516, 1.9121251525573404, 1.912102003334046, 1.912078929982703, 1.912055932216055, 1.9120330097479243, 1.91201016229323, 1.911987389567966, 1.9119646912892079, 1.9119420671751117, 1.9119195169448926, 1.9118970403188387, 1.911874637018299, 1.911852306765678, 1.91183004928444, 1.9118078642990952, 1.9117857515351968, 1.9117637107193437, 1.9117417415791729, 1.9117198438433536, 1.9116980172415843, 1.9116762615045926, 1.911654576364123, 1.9116329615529446, 1.9116114168048344, 1.9115899418545852, 1.9115685364379877, 1.9115472002918454, 1.9115259331539545, 1.9115047347631065, 1.9114836048590853, 1.9114625431826646, 1.911441549475594, 1.9114206234806124, 1.9113997649414227, 1.911378973602713, 1.9113582492101304, 1.9113375915102935, 1.9113170002507764, 1.9112964751801147, 1.9112760160477955, 1.9112556226042552, 1.9112352946008795, 1.911215031789994, 1.9111948339248668, 1.911174700759704, 1.9111546320496324, 1.9111346275507202, 1.9111146870199502, 1.9110948102152385, 1.911074996895408, 1.9110552468202024, 1.9110355597502702, 1.9110159354471754, 1.9109963736733817, 1.9109768741922537, 1.910957436768052, 1.9109380611659328, 1.9109187471519393, 1.9108994944930087, 1.910880302956956, 1.9108611723124744, 1.91084210232914, 1.9108230927773961, 1.910804143428561, 1.9107852540548196, 1.9107664244292186, 1.9107476543256618, 1.9107289435189136, 1.9107102917845924, 1.9106916988991673, 1.9106731646399504, 1.9106559896954378, 1.9106396624021027, 1.9106233850404035, 1.9106071574213899, 1.9105909793568312, 1.9105748506592044, 1.9105587711417045, 1.9105427406182296, 1.9105267589033865]\n"
          ]
        },
        {
          "output_type": "display_data",
          "data": {
            "text/plain": [
              "<Figure size 640x480 with 1 Axes>"
            ],
            "image/png": "[encoded data removed]"
          },
          "metadata": {}
        }
      ]
    },
    {
      "cell_type": "markdown",
      "source": [
        "###Question 4"
      ],
      "metadata": {
        "id": "WemWVibDklDP"
      }
    },
    {
      "cell_type": "code",
      "source": [
        "def prepare_data(file_name_dataset):\n",
        "  data = np.genfromtxt(file_name_dataset, delimiter=',', skip_header=1).tolist()\n",
        "\n",
        "  # get tv (index=0)\n",
        "  tv_data = get_column(data, 0)\n",
        "\n",
        "  # get radio (index=1)\n",
        "  radio_data = get_column(data, 1)\n",
        "\n",
        "  # get newspaper (index=2)\n",
        "  newspaper_data = get_column(data, 2)\n",
        "\n",
        "  # get sales (index=3)\n",
        "  sales_data = get_column(data, 3)\n",
        "\n",
        "  # building X input  and y output for training\n",
        "  #Create list of features for input\n",
        "  X = [[1, x1, x2, x3] for x1, x2, x3 in zip(tv_data, radio_data, newspaper_data)]\n",
        "  y = sales_data\n",
        "  return X,y"
      ],
      "metadata": {
        "id": "DpBo401zkkHB"
      },
      "execution_count": 151,
      "outputs": []
    },
    {
      "cell_type": "code",
      "source": [
        "def initialize_params():\n",
        "    bias = 0\n",
        "    w1 = random.gauss(mu=0.0, sigma=0.01)\n",
        "    w2 = random.gauss(mu=0.0, sigma=0.01)\n",
        "    w3 = random.gauss(mu=0.0, sigma=0.01)\n",
        "\n",
        "    return [0, -0.01268850433497871 , 0.004752496982185252 , 0.0073796171538643845]\n",
        "    # return [bias, w1, w2, w3]"
      ],
      "metadata": {
        "id": "R4Pm4nAiktdy"
      },
      "execution_count": 152,
      "outputs": []
    },
    {
      "cell_type": "code",
      "source": [
        "#Predict ouput by using y = x0*b + x1*w1 + x2*w2 + x3*w3\n",
        "\n",
        "def predict(X_features, weights):\n",
        "    return sum([f*w for f,w in zip(X_features, weights)])\n",
        "\n",
        "def compute_loss(y_hat, y):\n",
        "    return (y_hat - y)**2\n",
        "\n",
        "# compute gradient\n",
        "def compute_gradient_w(X_features, y, y_hat):\n",
        "    dl_dweights = [2*xi*(y_hat - y) for xi in X_features]\n",
        "    return dl_dweights\n",
        "\n",
        "# update weights\n",
        "def update_weight(weights, dl_dweights, lr):\n",
        "    weights = [w - lr*dw for w, dw in zip(weights, dl_dweights)]\n",
        "    return weights"
      ],
      "metadata": {
        "id": "QeHgNV10kv1W"
      },
      "execution_count": 169,
      "outputs": []
    },
    {
      "cell_type": "code",
      "source": [
        "def implement_linear_regression(X_feature, y_output, epoch_max = 50,lr = 1e-5):\n",
        "\n",
        "  losses = []\n",
        "  weights = initialize_params()\n",
        "  N = len(y_output)\n",
        "  for epoch in range(epoch_max):\n",
        "      print(\"epoch\", epoch)\n",
        "      for i in range(N):\n",
        "          # get a sample - row i\n",
        "          features_i = X_feature[i]\n",
        "          y = y_output[i]\n",
        "\n",
        "          # compute output\n",
        "          y_hat = predict(features_i, weights)\n",
        "\n",
        "          # compute loss\n",
        "          loss = compute_loss(y, y_hat)\n",
        "\n",
        "          # compute gradient w1, w2, w3, b\n",
        "          dl_dweights = compute_gradient_w(features_i, y, y_hat)\n",
        "\n",
        "          # update parameters\n",
        "          weights = update_weight(weights, dl_dweights, lr)\n",
        "\n",
        "          # logging\n",
        "          losses.append(loss)\n",
        "  return weights, losses"
      ],
      "metadata": {
        "id": "pn5D0Dr7n_gH"
      },
      "execution_count": 170,
      "outputs": []
    },
    {
      "cell_type": "code",
      "source": [
        "X,y = prepare_data('advertising.csv')\n",
        "W,L = implement_linear_regression(X,y)\n",
        "plt.plot(L[0:100])\n",
        "plt.xlabel(\"#iteration\")\n",
        "plt.ylabel(\"Loss\")\n",
        "plt.show()"
      ],
      "metadata": {
        "colab": {
          "base_uri": "https://localhost:8080/",
          "height": 1000
        },
        "id": "nMvwDihCoDl4",
        "outputId": "2bd344d7-bcdb-4a62-809a-2f885f3ce46e"
      },
      "execution_count": 171,
      "outputs": [
        {
          "output_type": "stream",
          "name": "stdout",
          "text": [
            "epoch 0\n",
            "epoch 1\n",
            "epoch 2\n",
            "epoch 3\n",
            "epoch 4\n",
            "epoch 5\n",
            "epoch 6\n",
            "epoch 7\n",
            "epoch 8\n",
            "epoch 9\n",
            "epoch 10\n",
            "epoch 11\n",
            "epoch 12\n",
            "epoch 13\n",
            "epoch 14\n",
            "epoch 15\n",
            "epoch 16\n",
            "epoch 17\n",
            "epoch 18\n",
            "epoch 19\n",
            "epoch 20\n",
            "epoch 21\n",
            "epoch 22\n",
            "epoch 23\n",
            "epoch 24\n",
            "epoch 25\n",
            "epoch 26\n",
            "epoch 27\n",
            "epoch 28\n",
            "epoch 29\n",
            "epoch 30\n",
            "epoch 31\n",
            "epoch 32\n",
            "epoch 33\n",
            "epoch 34\n",
            "epoch 35\n",
            "epoch 36\n",
            "epoch 37\n",
            "epoch 38\n",
            "epoch 39\n",
            "epoch 40\n",
            "epoch 41\n",
            "epoch 42\n",
            "epoch 43\n",
            "epoch 44\n",
            "epoch 45\n",
            "epoch 46\n",
            "epoch 47\n",
            "epoch 48\n",
            "epoch 49\n"
          ]
        },
        {
          "output_type": "display_data",
          "data": {
            "text/plain": [
              "<Figure size 640x480 with 1 Axes>"
            ],
            "image/png": "[encoded data removed]"
          },
          "metadata": {}
        }
      ]
    },
    {
      "cell_type": "code",
      "source": [
        "X ,y = prepare_data('advertising.csv')\n",
        "W,L = implement_linear_regression (X, y, epoch_max =50 , lr =1e-5)\n",
        "# Print loss value at iteration 9999\n",
        "print ( L [9999])"
      ],
      "metadata": {
        "colab": {
          "base_uri": "https://localhost:8080/"
        },
        "id": "xedr1lc-r0Zr",
        "outputId": "04616263-8254-44f3-963d-ce4ebe4d4876"
      },
      "execution_count": 172,
      "outputs": [
        {
          "output_type": "stream",
          "name": "stdout",
          "text": [
            "epoch 0\n",
            "epoch 1\n",
            "epoch 2\n",
            "epoch 3\n",
            "epoch 4\n",
            "epoch 5\n",
            "epoch 6\n",
            "epoch 7\n",
            "epoch 8\n",
            "epoch 9\n",
            "epoch 10\n",
            "epoch 11\n",
            "epoch 12\n",
            "epoch 13\n",
            "epoch 14\n",
            "epoch 15\n",
            "epoch 16\n",
            "epoch 17\n",
            "epoch 18\n",
            "epoch 19\n",
            "epoch 20\n",
            "epoch 21\n",
            "epoch 22\n",
            "epoch 23\n",
            "epoch 24\n",
            "epoch 25\n",
            "epoch 26\n",
            "epoch 27\n",
            "epoch 28\n",
            "epoch 29\n",
            "epoch 30\n",
            "epoch 31\n",
            "epoch 32\n",
            "epoch 33\n",
            "epoch 34\n",
            "epoch 35\n",
            "epoch 36\n",
            "epoch 37\n",
            "epoch 38\n",
            "epoch 39\n",
            "epoch 40\n",
            "epoch 41\n",
            "epoch 42\n",
            "epoch 43\n",
            "epoch 44\n",
            "epoch 45\n",
            "epoch 46\n",
            "epoch 47\n",
            "epoch 48\n",
            "epoch 49\n",
            "31.339223408109948\n"
          ]
        }
      ]
    }
  ]
}